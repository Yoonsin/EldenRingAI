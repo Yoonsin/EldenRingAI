{
 "cells": [
  {
   "cell_type": "code",
   "execution_count": 25,
   "metadata": {},
   "outputs": [],
   "source": [
    "import os\n",
    "import tensorflow as tf"
   ]
  },
  {
   "cell_type": "code",
   "execution_count": 26,
   "metadata": {},
   "outputs": [],
   "source": [
    "LOGDIR = 'logs'\n",
    "\n",
    "def get_min_boss_hp():\n",
    "    newest_log = 0\n",
    "    for directory in os.listdir(LOGDIR):\n",
    "        if int(directory) > newest_log:\n",
    "            newest_log = int(directory)\n",
    "\n",
    "    experiment_dir = os.path.join(LOGDIR, str(newest_log))\n",
    "    min_boss_hp = 1\n",
    "    for ppo_dir in os.listdir(experiment_dir):\n",
    "        ppo_path = os.path.join(experiment_dir, ppo_dir)\n",
    "        for event_file in os.listdir(ppo_path):\n",
    "            for e in tf.compat.v1.train.summary_iterator(os.path.join(ppo_path, event_file)):\n",
    "                for v in e.summary.value:\n",
    "                    try:\n",
    "                        if v.tag == 'boss_hp' and v.simple_value < min_boss_hp:\n",
    "                            min_boss_hp = v.simple_value\n",
    "                    except:\n",
    "                        pass\n",
    "    return min_boss_hp"
   ]
  },
  {
   "cell_type": "code",
   "execution_count": 27,
   "metadata": {},
   "outputs": [
    {
     "name": "stdout",
     "output_type": "stream",
     "text": [
      "[4, 5, 6, 7, 9, 11, 13, 14, 15, 16, 17, 18, 20, 22, 23, 25, 26, 27, 28, 30, 32, 33, 34, 36, 37, 39, 43, 46, 47, 48, 49, 50, 51, 52, 53, 54, 56, 58, 59, 60, 61, 62, 63, 65, 66, 68, 69, 71, 72, 77, 92, 94, 97, 99, 100, 101, 103, 104, 105, 106, 107, 108, 110, 111, 113, 115, 116, 118, 119, 120, 121, 124, 126, 128, 131, 133, 136, 138, 140, 141, 144, 147, 157, 161, 163, 165, 167, 168, 170, 172, 175, 177, 179, 180, 184, 186, 190, 192, 195, 205, 207, 208, 209, 212, 215, 216, 218, 220, 224, 227, 228, 232, 233, 236, 241, 247, 256, 259, 260, 263, 265, 267, 271, 273, 282, 286, 288, 290, 291, 293, 294, 299, 300, 302, 307, 313, 314, 317, 331, 332, 338, 343, 360, 363, 364, 398, 414, 420, 421, 422, 470, 478, 523, 575, 608]\n"
     ]
    }
   ],
   "source": [
    "newest_log = 0\n",
    "for directory in os.listdir(LOGDIR):\n",
    "    if int(directory) > newest_log:\n",
    "        newest_log = int(directory)\n",
    "\n",
    "experiment_dir = os.path.join(LOGDIR, str(newest_log))\n",
    "min_boss_hp = 1\n",
    "parry_idx = 0\n",
    "iter_idx = 0\n",
    "successful_parries = []\n",
    "index_to_attempt_dict = {}\n",
    "for ppo_dir in os.listdir(experiment_dir):\n",
    "    ppo_path = os.path.join(experiment_dir, ppo_dir)\n",
    "    for event_file in os.listdir(ppo_path):\n",
    "        try:\n",
    "            for e in tf.compat.v1.train.summary_iterator(os.path.join(ppo_path, event_file)):\n",
    "                for v in e.summary.value:\n",
    "                    try:\n",
    "                        if v.tag == 'parry_reward':\n",
    "                            parry_idx += 1\n",
    "                            if v.simple_value:\n",
    "                                successful_parries.append(parry_idx)\n",
    "                    except:\n",
    "                        pass\n",
    "                    try:\n",
    "                        if v.tag == 'iteration_finder':\n",
    "                            iter_idx += 1\n",
    "                            index_to_attempt_dict[v.simple_value] = iter_idx\n",
    "                    except:\n",
    "                        pass\n",
    "        except:\n",
    "            pass\n",
    "\n",
    "attempts_w_parries = []\n",
    "for parry_index in successful_parries:\n",
    "    for key, value in index_to_attempt_dict.items():\n",
    "        prev_value = value\n",
    "        if int(key) > int(parry_index):\n",
    "            if not prev_value in attempts_w_parries:\n",
    "                attempts_w_parries.append(prev_value)\n",
    "            break\n",
    "print(attempts_w_parries)"
   ]
  }
 ],
 "metadata": {
  "kernelspec": {
   "display_name": "Python 3.8.13 ('robotrioc')",
   "language": "python",
   "name": "python3"
  },
  "language_info": {
   "codemirror_mode": {
    "name": "ipython",
    "version": 3
   },
   "file_extension": ".py",
   "mimetype": "text/x-python",
   "name": "python",
   "nbconvert_exporter": "python",
   "pygments_lexer": "ipython3",
   "version": "3.8.13"
  },
  "orig_nbformat": 4,
  "vscode": {
   "interpreter": {
    "hash": "65e4bb07b4407cfe77a4f5f997452b07b9e0e63965c9faa6209409406054ef99"
   }
  }
 },
 "nbformat": 4,
 "nbformat_minor": 2
}
