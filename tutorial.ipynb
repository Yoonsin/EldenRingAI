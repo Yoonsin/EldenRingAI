{
 "cells": [
  {
   "cell_type": "code",
   "execution_count": 1,
   "metadata": {},
   "outputs": [
    {
     "name": "stdout",
     "output_type": "stream",
     "text": [
      "sample action: 1\n",
      "observation space shape: (8,)\n",
      "sample observation: [ 0.2077478   0.24566008  0.4666086  -0.17297578  0.27593043  0.6323033\n",
      "  0.44362244  0.30903032]\n"
     ]
    }
   ],
   "source": [
    "import gym\n",
    "\n",
    "# Create the environment\n",
    "env = gym.make('LunarLander-v2')  # continuous: LunarLanderContinuous-v2\n",
    "\n",
    "# required before you can step the environment\n",
    "env.reset()\n",
    "\n",
    "# sample action:\n",
    "print(\"sample action:\", env.action_space.sample())\n",
    "\n",
    "# observation space shape:\n",
    "print(\"observation space shape:\", env.observation_space.shape)\n",
    "\n",
    "# sample observation:\n",
    "print(\"sample observation:\", env.observation_space.sample())\n",
    "\n",
    "env.close()"
   ]
  },
  {
   "cell_type": "code",
   "execution_count": 2,
   "metadata": {},
   "outputs": [],
   "source": [
    "import gym\n",
    "\n",
    "\n",
    "env = gym.make('LunarLander-v2')  # continuous: LunarLanderContinuous-v2\n",
    "env.reset()\n",
    "\n",
    "for step in range(200):\n",
    "\tenv.render()\n",
    "\t# take random action\n",
    "\tenv.step(env.action_space.sample())\n",
    "\n",
    "env.close()\n",
    "\t\t"
   ]
  }
 ],
 "metadata": {
  "kernelspec": {
   "display_name": "Python 3.7.9 64-bit",
   "language": "python",
   "name": "python3"
  },
  "language_info": {
   "codemirror_mode": {
    "name": "ipython",
    "version": 3
   },
   "file_extension": ".py",
   "mimetype": "text/x-python",
   "name": "python",
   "nbconvert_exporter": "python",
   "pygments_lexer": "ipython3",
   "version": "3.7.9"
  },
  "orig_nbformat": 4,
  "vscode": {
   "interpreter": {
    "hash": "92fd9964f6bcfc4f8840c8ef24642b76a34b62aafc5e99b7aa3700d575066f95"
   }
  }
 },
 "nbformat": 4,
 "nbformat_minor": 2
}
